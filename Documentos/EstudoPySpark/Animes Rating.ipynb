{
 "cells": [
  {
   "cell_type": "code",
   "execution_count": 10,
   "metadata": {},
   "outputs": [],
   "source": [
    "df=spark.read.format(\"com.databricks.spark.csv\") \\\n",
    "    .option(\"header\", \"true\") \\\n",
    "    .option(\"delimiter\" , \",\") \\\n",
    "    .option(\"inferSchema\", \"true\") \\\n",
    "    .load(\"anime.csv\")"
   ]
  },
  {
   "cell_type": "code",
   "execution_count": 12,
   "metadata": {},
   "outputs": [
    {
     "name": "stdout",
     "output_type": "stream",
     "text": [
      "root\n",
      " |-- anime_id: integer (nullable = true)\n",
      " |-- name: string (nullable = true)\n",
      " |-- genre: string (nullable = true)\n",
      " |-- type: string (nullable = true)\n",
      " |-- episodes: string (nullable = true)\n",
      " |-- rating: double (nullable = true)\n",
      " |-- members: integer (nullable = true)\n",
      "\n"
     ]
    },
    {
     "data": {
      "text/plain": [
       "12294"
      ]
     },
     "execution_count": 12,
     "metadata": {},
     "output_type": "execute_result"
    }
   ],
   "source": [
    "df.printSchema()\n",
    "df.count()"
   ]
  },
  {
   "cell_type": "code",
   "execution_count": 15,
   "metadata": {},
   "outputs": [
    {
     "name": "stdout",
     "output_type": "stream",
     "text": [
      "+--------+--------------------+--------------------+-----+--------+------+-------+\n",
      "|anime_id|                name|               genre| type|episodes|rating|members|\n",
      "+--------+--------------------+--------------------+-----+--------+------+-------+\n",
      "|   32281|      Kimi no Na wa.|Drama, Romance, S...|Movie|       1|  9.37| 200630|\n",
      "|    5114|Fullmetal Alchemi...|Action, Adventure...|   TV|      64|  9.26| 793665|\n",
      "|   28977|            Gintama°|Action, Comedy, H...|   TV|      51|  9.25| 114262|\n",
      "|    9253|         Steins;Gate|    Sci-Fi, Thriller|   TV|      24|  9.17| 673572|\n",
      "|    9969|       Gintama&#039;|Action, Comedy, H...|   TV|      51|  9.16| 151266|\n",
      "|   32935|Haikyuu!!: Karasu...|Comedy, Drama, Sc...|   TV|      10|  9.15|  93351|\n",
      "|   11061|Hunter x Hunter (...|Action, Adventure...|   TV|     148|  9.13| 425855|\n",
      "|     820|Ginga Eiyuu Densetsu|Drama, Military, ...|  OVA|     110|  9.11|  80679|\n",
      "|   15335|Gintama Movie: Ka...|Action, Comedy, H...|Movie|       1|   9.1|  72534|\n",
      "|   15417|Gintama&#039;: En...|Action, Comedy, H...|   TV|      13|  9.11|  81109|\n",
      "|    4181|Clannad: After Story|Drama, Fantasy, R...|   TV|      24|  9.06| 456749|\n",
      "|   28851|      Koe no Katachi|Drama, School, Sh...|Movie|       1|  9.05| 102733|\n",
      "|     918|             Gintama|Action, Comedy, H...|   TV|     201|  9.04| 336376|\n",
      "|    2904|Code Geass: Hangy...|Action, Drama, Me...|   TV|      25|  8.98| 572888|\n",
      "|   28891|Haikyuu!! Second ...|Comedy, Drama, Sc...|   TV|      25|  8.93| 179342|\n",
      "|     199|Sen to Chihiro no...|Adventure, Drama,...|Movie|       1|  8.93| 466254|\n",
      "|   23273|Shigatsu wa Kimi ...|Drama, Music, Rom...|   TV|      22|  8.92| 416397|\n",
      "|   24701|Mushishi Zoku Sho...|Adventure, Fantas...|   TV|      10|  8.88|  75894|\n",
      "|   12355|Ookami Kodomo no ...|Fantasy, Slice of...|Movie|       1|  8.84| 226193|\n",
      "|    1575|Code Geass: Hangy...|Action, Mecha, Mi...|   TV|      25|  8.83| 715151|\n",
      "+--------+--------------------+--------------------+-----+--------+------+-------+\n",
      "only showing top 20 rows\n",
      "\n"
     ]
    }
   ],
   "source": [
    "df.show()"
   ]
  },
  {
   "cell_type": "code",
   "execution_count": 88,
   "metadata": {
    "scrolled": true
   },
   "outputs": [
    {
     "name": "stdout",
     "output_type": "stream",
     "text": [
      "+---------------------------------------------------------+------+\n",
      "|name                                                     |rating|\n",
      "+---------------------------------------------------------+------+\n",
      "|Kimi no Na wa.                                           |9.37  |\n",
      "|Fullmetal Alchemist: Brotherhood                         |9.26  |\n",
      "|Gintama°                                                 |9.25  |\n",
      "|Steins;Gate                                              |9.17  |\n",
      "|Gintama&#039;                                            |9.16  |\n",
      "|Haikyuu!!: Karasuno Koukou VS Shiratorizawa Gakuen Koukou|9.15  |\n",
      "|Hunter x Hunter (2011)                                   |9.13  |\n",
      "|Ginga Eiyuu Densetsu                                     |9.11  |\n",
      "|Gintama Movie: Kanketsu-hen - Yorozuya yo Eien Nare      |9.1   |\n",
      "|Gintama&#039;: Enchousen                                 |9.11  |\n",
      "|Clannad: After Story                                     |9.06  |\n",
      "|Koe no Katachi                                           |9.05  |\n",
      "|Gintama                                                  |9.04  |\n",
      "|Code Geass: Hangyaku no Lelouch R2                       |8.98  |\n",
      "|Haikyuu!! Second Season                                  |8.93  |\n",
      "|Sen to Chihiro no Kamikakushi                            |8.93  |\n",
      "|Shigatsu wa Kimi no Uso                                  |8.92  |\n",
      "|Mushishi Zoku Shou 2nd Season                            |8.88  |\n",
      "|Ookami Kodomo no Ame to Yuki                             |8.84  |\n",
      "|Code Geass: Hangyaku no Lelouch                          |8.83  |\n",
      "+---------------------------------------------------------+------+\n",
      "only showing top 20 rows\n",
      "\n"
     ]
    }
   ],
   "source": [
    "df.select(\"name\", \"rating\").show(truncate=False)"
   ]
  },
  {
   "cell_type": "code",
   "execution_count": 86,
   "metadata": {},
   "outputs": [
    {
     "data": {
      "text/plain": [
       "0"
      ]
     },
     "execution_count": 86,
     "metadata": {},
     "output_type": "execute_result"
    }
   ],
   "source": [
    "df.filter(df[\"genre\"]==\"drama\").count()"
   ]
  },
  {
   "cell_type": "code",
   "execution_count": 79,
   "metadata": {},
   "outputs": [
    {
     "name": "stdout",
     "output_type": "stream",
     "text": [
      "+--------------------+--------------------+\n",
      "|                name|               genre|\n",
      "+--------------------+--------------------+\n",
      "|      Kimi no Na wa.|Drama, Romance, S...|\n",
      "|Fullmetal Alchemi...|Action, Adventure...|\n",
      "|            Gintama°|Action, Comedy, H...|\n",
      "|         Steins;Gate|    Sci-Fi, Thriller|\n",
      "|       Gintama&#039;|Action, Comedy, H...|\n",
      "|Haikyuu!!: Karasu...|Comedy, Drama, Sc...|\n",
      "|Hunter x Hunter (...|Action, Adventure...|\n",
      "|Ginga Eiyuu Densetsu|Drama, Military, ...|\n",
      "|Gintama Movie: Ka...|Action, Comedy, H...|\n",
      "|Gintama&#039;: En...|Action, Comedy, H...|\n",
      "|Clannad: After Story|Drama, Fantasy, R...|\n",
      "|      Koe no Katachi|Drama, School, Sh...|\n",
      "|             Gintama|Action, Comedy, H...|\n",
      "|Code Geass: Hangy...|Action, Drama, Me...|\n",
      "|Haikyuu!! Second ...|Comedy, Drama, Sc...|\n",
      "|Sen to Chihiro no...|Adventure, Drama,...|\n",
      "|Shigatsu wa Kimi ...|Drama, Music, Rom...|\n",
      "|Mushishi Zoku Sho...|Adventure, Fantas...|\n",
      "|Ookami Kodomo no ...|Fantasy, Slice of...|\n",
      "|Code Geass: Hangy...|Action, Mecha, Mi...|\n",
      "+--------------------+--------------------+\n",
      "only showing top 20 rows\n",
      "\n"
     ]
    }
   ],
   "source": [
    "#Genêro dos animes\n",
    "df.select(\"name\",\"genre\").show()"
   ]
  },
  {
   "cell_type": "code",
   "execution_count": 28,
   "metadata": {},
   "outputs": [
    {
     "data": {
      "text/plain": [
       "3787"
      ]
     },
     "execution_count": 28,
     "metadata": {},
     "output_type": "execute_result"
    }
   ],
   "source": [
    "#Quantidade de animes.\n",
    "df.filter(df[\"type\"]==\"TV\").count()"
   ]
  },
  {
   "cell_type": "code",
   "execution_count": 30,
   "metadata": {},
   "outputs": [
    {
     "data": {
      "text/plain": [
       "2348"
      ]
     },
     "execution_count": 30,
     "metadata": {},
     "output_type": "execute_result"
    }
   ],
   "source": [
    "#Quantidade de animações que são filmes\n",
    "df.filter(df[\"type\"]==\"Movie\").count()"
   ]
  },
  {
   "cell_type": "code",
   "execution_count": 71,
   "metadata": {},
   "outputs": [
    {
     "name": "stdout",
     "output_type": "stream",
     "text": [
      "+--------------------------------------+--------+\n",
      "|name                                  |episodes|\n",
      "+--------------------------------------+--------+\n",
      "|Naruto: Shippuuden                    |Unknown |\n",
      "|Tanaka-kun wa Itsumo Kedaruge Specials|Unknown |\n",
      "+--------------------------------------+--------+\n",
      "only showing top 2 rows\n",
      "\n"
     ]
    }
   ],
   "source": [
    "#verificando se existem animes sem número de eps definido\n",
    "df.select(\"name\", \"episodes\").orderBy(\"episodes\", ascending=False).show(2, truncate=False)"
   ]
  },
  {
   "cell_type": "code",
   "execution_count": 80,
   "metadata": {},
   "outputs": [
    {
     "name": "stdout",
     "output_type": "stream",
     "text": [
      "+------------------------------------------+--------+\n",
      "|name                                      |episodes|\n",
      "+------------------------------------------+--------+\n",
      "|Uchuu Kyoudai                             |99      |\n",
      "|Mister Ajikko                             |99      |\n",
      "|Tatakae! Chou Robot Seimeitai Transformers|98      |\n",
      "|Dragon Ball Kai                           |97      |\n",
      "|Saint Seiya Omega                         |97      |\n",
      "|Majime ni Fumajime Kaiketsu Zorori        |97      |\n",
      "|Maison Ikkoku                             |96      |\n",
      "|Uchuu Shounen Soran                       |96      |\n",
      "|Obake no Q-tarou                          |96      |\n",
      "|Tetsujin 28-gou                           |96      |\n",
      "|Maicching Machiko-sensei                  |95      |\n",
      "|The Kabocha Wine                          |95      |\n",
      "|Kaibutsu-kun (1980)                       |94      |\n",
      "|Himitsu no Akko-chan                      |94      |\n",
      "|Rurouni Kenshin: Meiji Kenkaku Romantan   |94      |\n",
      "|Pokemon XY                                |93      |\n",
      "|Ginga Shounen Tai                         |92      |\n",
      "|Mazinger Z                                |92      |\n",
      "|Kyoro-chan                                |91      |\n",
      "|Konchuu Monogatari Minashigo Hutch        |91      |\n",
      "+------------------------------------------+--------+\n",
      "only showing top 20 rows\n",
      "\n"
     ]
    }
   ],
   "source": [
    "#animes com o maior número de eps. Retirando todos que não possuem a quantidade de eps definida.\n",
    "df.filter(df[\"episodes\"]!=\"Unknown\").select(\"name\", \"episodes\").orderBy(\"episodes\", ascending=False).show(truncate=False)"
   ]
  },
  {
   "cell_type": "code",
   "execution_count": 89,
   "metadata": {},
   "outputs": [
    {
     "name": "stdout",
     "output_type": "stream",
     "text": [
      "+---------------------------------------------------------+------+\n",
      "|name                                                     |rating|\n",
      "+---------------------------------------------------------+------+\n",
      "|Spoon-hime no Swing Kitchen                              |9.6   |\n",
      "|Fullmetal Alchemist: Brotherhood                         |9.26  |\n",
      "|Gintama°                                                 |9.25  |\n",
      "|Steins;Gate                                              |9.17  |\n",
      "|Gintama&#039;                                            |9.16  |\n",
      "|Haikyuu!!: Karasuno Koukou VS Shiratorizawa Gakuen Koukou|9.15  |\n",
      "|Hunter x Hunter (2011)                                   |9.13  |\n",
      "|Gintama&#039;: Enchousen                                 |9.11  |\n",
      "|Clannad: After Story                                     |9.06  |\n",
      "|Gintama                                                  |9.04  |\n",
      "|Code Geass: Hangyaku no Lelouch R2                       |8.98  |\n",
      "|Haikyuu!! Second Season                                  |8.93  |\n",
      "|Shigatsu wa Kimi no Uso                                  |8.92  |\n",
      "|Mushishi Zoku Shou 2nd Season                            |8.88  |\n",
      "|Code Geass: Hangyaku no Lelouch                          |8.83  |\n",
      "|Hajime no Ippo                                           |8.83  |\n",
      "|One Punch Man                                            |8.82  |\n",
      "|Cowboy Bebop                                             |8.82  |\n",
      "|Monogatari Series: Second Season                         |8.8   |\n",
      "|Mushishi Zoku Shou                                       |8.8   |\n",
      "+---------------------------------------------------------+------+\n",
      "only showing top 20 rows\n",
      "\n"
     ]
    }
   ],
   "source": [
    "#Rating de animes que passam na TV.\n",
    "df.filter(df[\"type\"]==\"TV\").select(\"name\", \"rating\").orderBy(\"rating\", ascending=False).show(truncate=False)"
   ]
  },
  {
   "cell_type": "code",
   "execution_count": 93,
   "metadata": {},
   "outputs": [
    {
     "name": "stdout",
     "output_type": "stream",
     "text": [
      "+---------------------------------------------------+------+\n",
      "|name                                               |rating|\n",
      "+---------------------------------------------------+------+\n",
      "|Taka no Tsume 8: Yoshida-kun no X-Files            |10.0  |\n",
      "|Mogura no Motoro                                   |9.5   |\n",
      "|Kimi no Na wa.                                     |9.37  |\n",
      "|Kahei no Umi                                       |9.33  |\n",
      "|Gintama Movie: Kanketsu-hen - Yorozuya yo Eien Nare|9.1   |\n",
      "|Koe no Katachi                                     |9.05  |\n",
      "|Mirai ni Mukete: Bousai wo Kangaeru                |9.0   |\n",
      "|Shenmi Shijie Lixian Ji                            |9.0   |\n",
      "|Shaka no Shougai                                   |9.0   |\n",
      "|Okaachan Gomen ne                                  |9.0   |\n",
      "|Sen to Chihiro no Kamikakushi                      |8.93  |\n",
      "|Ookami Kodomo no Ame to Yuki                       |8.84  |\n",
      "|Mononoke Hime                                      |8.81  |\n",
      "|Suzumiya Haruhi no Shoushitsu                      |8.81  |\n",
      "|Mushishi Zoku Shou: Suzu no Shizuku                |8.75  |\n",
      "|Maya no Isshou                                     |8.75  |\n",
      "|Howl no Ugoku Shiro                                |8.74  |\n",
      "|Kizumonogatari II: Nekketsu-hen                    |8.73  |\n",
      "|Kara no Kyoukai 5: Mujun Rasen                     |8.68  |\n",
      "|Shisei Sasshin                                     |8.67  |\n",
      "+---------------------------------------------------+------+\n",
      "only showing top 20 rows\n",
      "\n"
     ]
    }
   ],
   "source": [
    "#Rating de filmes/anime.\n",
    "df.filter(df[\"type\"]==\"Movie\").select(\"name\", \"rating\").orderBy(\"rating\", ascending=False).show(truncate=False)"
   ]
  },
  {
   "cell_type": "code",
   "execution_count": 96,
   "metadata": {},
   "outputs": [
    {
     "name": "stdout",
     "output_type": "stream",
     "text": [
      "+-------+-----------------+\n",
      "|summary|           rating|\n",
      "+-------+-----------------+\n",
      "|  count|            12064|\n",
      "|   mean|6.473901690981445|\n",
      "| stddev|1.026746306898068|\n",
      "|    min|             1.67|\n",
      "|    max|             10.0|\n",
      "+-------+-----------------+\n",
      "\n"
     ]
    }
   ],
   "source": [
    "df.describe(\"rating\").show()"
   ]
  },
  {
   "cell_type": "code",
   "execution_count": 104,
   "metadata": {},
   "outputs": [
    {
     "name": "stdout",
     "output_type": "stream",
     "text": [
      "+--------------------+-----------+-----------+-------------+-----------+\n",
      "|                name|max(rating)|sum(rating)|count(rating)|avg(rating)|\n",
      "+--------------------+-----------+-----------+-------------+-----------+\n",
      "|      Infini-T Force|       null|       null|            0|       null|\n",
      "|New Game!: Watash...|       null|       null|            0|       null|\n",
      "|Tantei Opera Milk...|       null|       null|            0|       null|\n",
      "|        Hand Shakers|       null|       null|            0|       null|\n",
      "|               Finis|       null|       null|            0|       null|\n",
      "|      Shishou Series|       null|       null|            0|       null|\n",
      "|     Eromanga-sensei|       null|       null|            0|       null|\n",
      "|Little Witch Acad...|       null|       null|            0|       null|\n",
      "|          UQ Holder!|       null|       null|            0|       null|\n",
      "|  Ao no Exorcist OVA|       null|       null|            0|       null|\n",
      "|King of Prism: Pr...|       null|       null|            0|       null|\n",
      "|        Renai Boukun|       null|       null|            0|       null|\n",
      "|Peace Maker Kurog...|       null|       null|            0|       null|\n",
      "|       Steins;Gate 0|       null|       null|            0|       null|\n",
      "|Kono Subarashii S...|       null|       null|            0|       null|\n",
      "|Senki Zesshou Sym...|       null|       null|            0|       null|\n",
      "|Kuroko no Basket:...|       null|       null|            0|       null|\n",
      "|     Seikaisuru Kado|       null|       null|            0|       null|\n",
      "|Yuuki Yuuna wa Yu...|       null|       null|            0|       null|\n",
      "|Shimajirou to Nij...|       null|       null|            0|       null|\n",
      "+--------------------+-----------+-----------+-------------+-----------+\n",
      "only showing top 20 rows\n",
      "\n"
     ]
    }
   ],
   "source": [
    "from pyspark.sql import functions as F\n",
    "df.groupBy(\"name\").agg(F.max(\"rating\"), F.sum(\"rating\"), F.count(\"rating\"), F.avg(\"rating\")) \\\n",
    "    .orderBy(\"sum(rating)\", desceding=False) \\\n",
    "    .show()"
   ]
  }
 ],
 "metadata": {
  "kernelspec": {
   "display_name": "Python 3",
   "language": "python",
   "name": "python3"
  },
  "language_info": {
   "codemirror_mode": {
    "name": "ipython",
    "version": 3
   },
   "file_extension": ".py",
   "mimetype": "text/x-python",
   "name": "python",
   "nbconvert_exporter": "python",
   "pygments_lexer": "ipython3",
   "version": "3.6.9"
  }
 },
 "nbformat": 4,
 "nbformat_minor": 4
}
