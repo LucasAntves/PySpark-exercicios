{
 "cells": [
  {
   "cell_type": "code",
   "execution_count": 1,
   "metadata": {},
   "outputs": [
    {
     "data": {
      "text/html": [
       "\n",
       "            <div>\n",
       "                <p><b>SparkSession - hive</b></p>\n",
       "                \n",
       "        <div>\n",
       "            <p><b>SparkContext</b></p>\n",
       "\n",
       "            <p><a href=\"http://10.0.2.15:4048\">Spark UI</a></p>\n",
       "\n",
       "            <dl>\n",
       "              <dt>Version</dt>\n",
       "                <dd><code>v3.0.0-preview2</code></dd>\n",
       "              <dt>Master</dt>\n",
       "                <dd><code>local[2]</code></dd>\n",
       "              <dt>AppName</dt>\n",
       "                <dd><code>PySparkShell</code></dd>\n",
       "            </dl>\n",
       "        </div>\n",
       "        \n",
       "            </div>\n",
       "        "
      ],
      "text/plain": [
       "<pyspark.sql.session.SparkSession at 0x7f2a993f3cf8>"
      ]
     },
     "execution_count": 1,
     "metadata": {},
     "output_type": "execute_result"
    }
   ],
   "source": [
    "spark"
   ]
  },
  {
   "cell_type": "code",
   "execution_count": 3,
   "metadata": {},
   "outputs": [
    {
     "data": {
      "text/plain": [
       "['Builder',\n",
       " '__class__',\n",
       " '__delattr__',\n",
       " '__dict__',\n",
       " '__dir__',\n",
       " '__doc__',\n",
       " '__enter__',\n",
       " '__eq__',\n",
       " '__exit__',\n",
       " '__format__',\n",
       " '__ge__',\n",
       " '__getattribute__',\n",
       " '__gt__',\n",
       " '__hash__',\n",
       " '__init__',\n",
       " '__init_subclass__',\n",
       " '__le__',\n",
       " '__lt__',\n",
       " '__module__',\n",
       " '__ne__',\n",
       " '__new__',\n",
       " '__reduce__',\n",
       " '__reduce_ex__',\n",
       " '__repr__',\n",
       " '__setattr__',\n",
       " '__sizeof__',\n",
       " '__str__',\n",
       " '__subclasshook__',\n",
       " '__weakref__',\n",
       " '_activeSession',\n",
       " '_conf',\n",
       " '_convert_from_pandas',\n",
       " '_createFromLocal',\n",
       " '_createFromRDD',\n",
       " '_create_from_pandas_with_arrow',\n",
       " '_create_shell_session',\n",
       " '_get_numpy_record_dtype',\n",
       " '_inferSchema',\n",
       " '_inferSchemaFromList',\n",
       " '_instantiatedSession',\n",
       " '_jsc',\n",
       " '_jsparkSession',\n",
       " '_jvm',\n",
       " '_jwrapped',\n",
       " '_repr_html_',\n",
       " '_sc',\n",
       " '_wrapped',\n",
       " 'builder',\n",
       " 'catalog',\n",
       " 'conf',\n",
       " 'createDataFrame',\n",
       " 'getActiveSession',\n",
       " 'newSession',\n",
       " 'range',\n",
       " 'read',\n",
       " 'readStream',\n",
       " 'sparkContext',\n",
       " 'sql',\n",
       " 'stop',\n",
       " 'streams',\n",
       " 'table',\n",
       " 'udf',\n",
       " 'version']"
      ]
     },
     "execution_count": 3,
     "metadata": {},
     "output_type": "execute_result"
    }
   ],
   "source": [
    "dir(spark)"
   ]
  },
  {
   "cell_type": "code",
   "execution_count": 4,
   "metadata": {},
   "outputs": [
    {
     "name": "stdout",
     "output_type": "stream",
     "text": [
      "root\n",
      " |-- name: string (nullable = true)\n",
      " |-- birth: long (nullable = true)\n",
      "\n"
     ]
    }
   ],
   "source": [
    "data=[(\"Newton\", 1643), (\"Enstein\", 1879), (\"Gauss\", 1777)]\n",
    "df=spark.createDataFrame(data, [\"name\", \"birth\"])\n",
    "df.printSchema()"
   ]
  },
  {
   "cell_type": "code",
   "execution_count": 5,
   "metadata": {},
   "outputs": [
    {
     "name": "stdout",
     "output_type": "stream",
     "text": [
      "+-------+-----+\n",
      "|   name|birth|\n",
      "+-------+-----+\n",
      "| Newton| 1643|\n",
      "|Enstein| 1879|\n",
      "|  Gauss| 1777|\n",
      "+-------+-----+\n",
      "\n"
     ]
    }
   ],
   "source": [
    "df.show()"
   ]
  },
  {
   "cell_type": "code",
   "execution_count": 6,
   "metadata": {},
   "outputs": [
    {
     "name": "stdout",
     "output_type": "stream",
     "text": [
      "root\n",
      " |-- user_id: long (nullable = true)\n",
      " |-- genre_id: long (nullable = true)\n",
      "\n"
     ]
    }
   ],
   "source": [
    "df = spark.createDataFrame([ (1, 1), (1, 3), (2, 1), (3, 2), (3, 4) ], [\"user_id\", \"genre_id\"])\n",
    "df.printSchema()"
   ]
  },
  {
   "cell_type": "code",
   "execution_count": 7,
   "metadata": {},
   "outputs": [
    {
     "name": "stdout",
     "output_type": "stream",
     "text": [
      "+-------+--------+\n",
      "|user_id|genre_id|\n",
      "+-------+--------+\n",
      "|      1|       1|\n",
      "|      1|       3|\n",
      "|      2|       1|\n",
      "|      3|       2|\n",
      "|      3|       4|\n",
      "+-------+--------+\n",
      "\n"
     ]
    }
   ],
   "source": [
    "df.show()"
   ]
  },
  {
   "cell_type": "code",
   "execution_count": 9,
   "metadata": {},
   "outputs": [],
   "source": [
    "df=spark.read.format(\"com.databricks.spark.csv\") \\\n",
    "    .option(\"header\", \"true\") \\\n",
    "    .option(\"delimiter\", \";\") \\\n",
    "    .option(\"inferSchema\", \"true\") \\\n",
    "    .load(\"/home/ubuntu/viagens.csv\")"
   ]
  },
  {
   "cell_type": "code",
   "execution_count": 10,
   "metadata": {},
   "outputs": [
    {
     "name": "stdout",
     "output_type": "stream",
     "text": [
      "root\n",
      " |-- Identificador do processod de viagem: integer (nullable = true)\n",
      " |-- Situação: string (nullable = true)\n",
      " |-- Órgão Superior: string (nullable = true)\n",
      " |-- Órgão / Entidade Vinculada: string (nullable = true)\n",
      " |-- Tipo Viagem: string (nullable = true)\n",
      " |-- CPF: string (nullable = true)\n",
      " |-- Nome: string (nullable = true)\n",
      " |-- De: string (nullable = true)\n",
      " |-- Até: string (nullable = true)\n",
      " |-- Destinos: string (nullable = true)\n",
      " |-- Valor Total: string (nullable = true)\n",
      " |-- _c11: string (nullable = true)\n",
      "\n"
     ]
    }
   ],
   "source": [
    "df.printSchema()"
   ]
  },
  {
   "cell_type": "code",
   "execution_count": 11,
   "metadata": {},
   "outputs": [
    {
     "data": {
      "text/plain": [
       "31"
      ]
     },
     "execution_count": 11,
     "metadata": {},
     "output_type": "execute_result"
    }
   ],
   "source": [
    "df.count()"
   ]
  },
  {
   "cell_type": "code",
   "execution_count": 12,
   "metadata": {},
   "outputs": [
    {
     "name": "stdout",
     "output_type": "stream",
     "text": [
      "+------------------------------------+-------------+----------------------+----------------------------------------------------------------------+-----------+--------------+------------------------------------------+----------+----------+--------+-----------+----+\n",
      "|Identificador do processod de viagem|Situação     |Órgão Superior        |Órgão / Entidade Vinculada                                            |Tipo Viagem|CPF           |Nome                                      |De        |Até       |Destinos|Valor Total|_c11|\n",
      "+------------------------------------+-------------+----------------------+----------------------------------------------------------------------+-----------+--------------+------------------------------------------+----------+----------+--------+-----------+----+\n",
      "|16657965                            |Não realizada|Ministério da Educação|Instituto Nacional de Estudos e Pesquisas Educacionais Anísio Teixeira|Nacional   |***.753.118-**|FABIANE REGINA CARVALHO DE ANDRADE IBRAHIN|01/12/2019|04/12/2019|Ipu/CE  |R$ 1.780,62|null|\n",
      "+------------------------------------+-------------+----------------------+----------------------------------------------------------------------+-----------+--------------+------------------------------------------+----------+----------+--------+-----------+----+\n",
      "only showing top 1 row\n",
      "\n"
     ]
    }
   ],
   "source": [
    "df.show(1, truncate=False)"
   ]
  },
  {
   "cell_type": "code",
   "execution_count": 13,
   "metadata": {},
   "outputs": [
    {
     "name": "stdout",
     "output_type": "stream",
     "text": [
      "+-----------------------------------------------------------+-----------+\n",
      "|Órgão Superior                                             |Valor Total|\n",
      "+-----------------------------------------------------------+-----------+\n",
      "|Ministério da Educação                                     |R$ 1.780,62|\n",
      "|Sem informação                                             |R$ 655,08  |\n",
      "|Ministério das Relações Exteriores                         |R$ 3.373,00|\n",
      "|Sem informação                                             |R$ 1.032,42|\n",
      "|Ministério da Educação                                     |R$ 1.416,93|\n",
      "|Ministério da Educação                                     |R$ 2.120,74|\n",
      "|Ministério da Defesa                                       |R$ 1.028,37|\n",
      "|Controladoria-Geral da União                               |R$ 0,00    |\n",
      "|Ministério da Justiça e Segurança Pública                  |R$ 1.900,88|\n",
      "|Ministério da Educação                                     |R$ 543,36  |\n",
      "|Controladoria-Geral da União                               |R$ 529,88  |\n",
      "|Ministério da Educação                                     |R$ 774,56  |\n",
      "|Ministério da Educação                                     |R$ 324,70  |\n",
      "|Ministério da Educação                                     |R$ 2.938,42|\n",
      "|Ministério da Defesa                                       |R$ 183,24  |\n",
      "|Sem informação                                             |R$ 0,00    |\n",
      "|Ministério da Ciência, Tecnologia, Inovações e Comunicações|R$ 247,06  |\n",
      "|Ministério da Ciência, Tecnologia, Inovações e Comunicações|R$ 274,06  |\n",
      "|Ministério da Ciência, Tecnologia, Inovações e Comunicações|R$ 390,06  |\n",
      "|Ministério da Ciência, Tecnologia, Inovações e Comunicações|R$ 249,06  |\n",
      "+-----------------------------------------------------------+-----------+\n",
      "only showing top 20 rows\n",
      "\n"
     ]
    }
   ],
   "source": [
    "df.select(\"Órgão Superior\" ,  \"Valor Total\").show(truncate = False)"
   ]
  },
  {
   "cell_type": "code",
   "execution_count": 14,
   "metadata": {},
   "outputs": [
    {
     "data": {
      "text/plain": [
       "0"
      ]
     },
     "execution_count": 14,
     "metadata": {},
     "output_type": "execute_result"
    }
   ],
   "source": [
    "df.filter(df[\"Órgão Superior\"]==\"Orgão / Entidade Vinculada\").count()"
   ]
  },
  {
   "cell_type": "code",
   "execution_count": 15,
   "metadata": {},
   "outputs": [
    {
     "name": "stdout",
     "output_type": "stream",
     "text": [
      "+-----------------------------------------------------------+-----+\n",
      "|Órgão Superior                                             |count|\n",
      "+-----------------------------------------------------------+-----+\n",
      "|Ministério da Educação                                     |8    |\n",
      "|Sem informação                                             |7    |\n",
      "|Ministério da Ciência, Tecnologia, Inovações e Comunicações|6    |\n",
      "|Ministério das Relações Exteriores                         |4    |\n",
      "|Ministério da Defesa                                       |2    |\n",
      "|Ministério da Justiça e Segurança Pública                  |2    |\n",
      "|Controladoria-Geral da União                               |2    |\n",
      "+-----------------------------------------------------------+-----+\n",
      "\n"
     ]
    }
   ],
   "source": [
    "df.groupBy(\"Órgão Superior\").count().orderBy(\"count\", ascending=False).show(truncate=False)"
   ]
  },
  {
   "cell_type": "code",
   "execution_count": 19,
   "metadata": {},
   "outputs": [
    {
     "name": "stdout",
     "output_type": "stream",
     "text": [
      "+-------+-----------+\n",
      "|summary|Valor Total|\n",
      "+-------+-----------+\n",
      "|  count|         31|\n",
      "|   mean|       null|\n",
      "| stddev|       null|\n",
      "|    min|    R$ 0,00|\n",
      "|    max|  R$ 870,42|\n",
      "+-------+-----------+\n",
      "\n"
     ]
    }
   ],
   "source": [
    "df.describe(\"Valor Total\").show()"
   ]
  },
  {
   "cell_type": "code",
   "execution_count": null,
   "metadata": {},
   "outputs": [],
   "source": []
  },
  {
   "cell_type": "code",
   "execution_count": null,
   "metadata": {},
   "outputs": [],
   "source": []
  }
 ],
 "metadata": {
  "kernelspec": {
   "display_name": "Python 3",
   "language": "python",
   "name": "python3"
  },
  "language_info": {
   "codemirror_mode": {
    "name": "ipython",
    "version": 3
   },
   "file_extension": ".py",
   "mimetype": "text/x-python",
   "name": "python",
   "nbconvert_exporter": "python",
   "pygments_lexer": "ipython3",
   "version": "3.6.9"
  }
 },
 "nbformat": 4,
 "nbformat_minor": 4
}
